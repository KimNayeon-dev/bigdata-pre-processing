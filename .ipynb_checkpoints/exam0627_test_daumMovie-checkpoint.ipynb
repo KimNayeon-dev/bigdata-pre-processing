{
 "cells": [
  {
   "cell_type": "markdown",
   "id": "9f96ac7c",
   "metadata": {},
   "source": [
    "## [웹크롤링 퀴즈]\n",
    "### daum 실시간영화예매율 / 일간영화순위 크롤링하여 출력하기\n",
    "---\n",
    "- 다음 영화 사이트에서 사용자의 입력 값에 따라 실시간 예매율과<br>\n",
    "일간 순위 리스트를 각각 출력할 것\n",
    "- 이때 입력창은 pyautogui 모듈을 활용할 것\n",
    "- 실시간 예매율은 1, 일간순위 리스트는 2 값으로 입력받을 것\n",
    "- 1 또는 2 외의 값이 들어오면 계속 입력창을 띄워 입력받을 것"
   ]
  },
  {
   "cell_type": "code",
   "execution_count": 7,
   "id": "97434493",
   "metadata": {
    "scrolled": false
   },
   "outputs": [
    {
     "name": "stdout",
     "output_type": "stream",
     "text": [
      "1.  탑건: 매버릭 \n",
      "2.  토르: 러브 앤 썬더 \n",
      "3.  헤어질 결심 \n",
      "4.  마녀(魔女) Part2. The Other One \n",
      "5.  범죄도시 2 \n",
      "6.  컴온 컴온 \n",
      "7.  브로커 \n",
      "8.  고스트랜드 \n",
      "9.  프리! 더 파이널 스트로크 후편 \n",
      "10.  버즈 라이트이어 \n",
      "11.  러빙 빈센트 \n",
      "12.  모어 \n",
      "13.  룸 쉐어링 \n",
      "14.  큐어 \n",
      "15.  쥬라기 월드: 도미니언 \n",
      "16.  극장판 윌벤져스 : 수상한 캠핑 대소동 \n",
      "17.  니얼굴 \n",
      "18.  펄프 픽션  \n",
      "19.  애프터 양 \n",
      "20.  미친 능력 \n",
      "21.  호수의 이방인 \n",
      "22.  눈감은 여름 \n",
      "23.  박쥐 \n",
      "24.  레베카  \n",
      "25.  블레이징 썬 \n",
      "26.  레드 로켓 \n",
      "27.  아가씨(확장판) \n",
      "28.  트윈 픽스  \n",
      "29.  실종 \n"
     ]
    }
   ],
   "source": [
    "import requests\n",
    "from bs4 import BeautifulSoup\n",
    "import pyautogui as pya\n",
    "\n",
    "while(True) :\n",
    "    keyword = int(pya.prompt(\"실시간영화예매율은 1, 일간영화순위는 2를 입력해주세요.\"))\n",
    "    \n",
    "    if(keyword==1) :\n",
    "        response = requests.get(\"https://search.daum.net/search?w=tot&DA=YZR&t__nil_searchbox=btn&sug=&sugo=&sq=&o=&q=영화\")\n",
    "        break\n",
    "    elif(keyword==2) :\n",
    "        response = requests.get(\"https://search.daum.net/search?w=tot&DA=YZR&t__nil_searchbox=btn&sug=&sugo=&sq=&o=&q=일간영화순위\")\n",
    "        break\n",
    "    else :\n",
    "        continue\n",
    "\n",
    "# response = requests.get(\"https://search.daum.net/search?w=tot&DA=YZR&t__nil_searchbox=btn&sug=&sugo=&sq=&o=&q=영화\")\n",
    "html = response.text\n",
    "soup = BeautifulSoup(html, 'html.parser')\n",
    "\n",
    "# select 부분\n",
    "title = soup.select(\"div.wrap_cont.cont_type2 > div\")\n",
    "\n",
    "# 영화순위 반복출력 부분\n",
    "for i in range(0, 29, 1) :\n",
    "    print(\"%d. \"%(i+1)+title[i].text)"
   ]
  },
  {
   "cell_type": "code",
   "execution_count": null,
   "id": "0e5bee44",
   "metadata": {},
   "outputs": [],
   "source": []
  }
 ],
 "metadata": {
  "kernelspec": {
   "display_name": "Python 3 (ipykernel)",
   "language": "python",
   "name": "python3"
  },
  "language_info": {
   "codemirror_mode": {
    "name": "ipython",
    "version": 3
   },
   "file_extension": ".py",
   "mimetype": "text/x-python",
   "name": "python",
   "nbconvert_exporter": "python",
   "pygments_lexer": "ipython3",
   "version": "3.9.12"
  }
 },
 "nbformat": 4,
 "nbformat_minor": 5
}
