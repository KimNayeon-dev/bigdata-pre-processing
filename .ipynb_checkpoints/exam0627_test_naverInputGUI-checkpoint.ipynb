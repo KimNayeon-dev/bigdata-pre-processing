{
 "cells": [
  {
   "cell_type": "markdown",
   "id": "9f96ac7c",
   "metadata": {},
   "source": [
    "## [실전 프로젝트]\n",
    "### 뉴스 데이터 수집하기 / 검색어에 따라 다른 결과 나타내기\n",
    "---\n",
    "- **URL의 개념 : 인터넷 주소 형식**\n",
    "- 프로토콜, 도메인, 패스(경로),<br>\n",
    "파라미터(서버의 추가적인 정보를 제공하기 위해서 사용, 키와 값으로 구성, &로 구분)\n",
    "- query는 검색어에 해당됨\n",
    "- 파이썬에서 사용자에게 검색어를 입력받은 뒤 query 값에 적용하면 검색어 변경 가능\n",
    "- pyautogui 모듈 활용하기, pyautogui로 팝업창을 띄워 사용자로부터 검색어 입력받기"
   ]
  },
  {
   "cell_type": "code",
   "execution_count": 10,
   "id": "d2e70319",
   "metadata": {},
   "outputs": [
    {
     "name": "stdout",
     "output_type": "stream",
     "text": [
      "Requirement already satisfied: pyautogui in c:\\users\\yj\\anaconda3\\lib\\site-packages (0.9.53)\n",
      "Requirement already satisfied: pygetwindow>=0.0.5 in c:\\users\\yj\\anaconda3\\lib\\site-packages (from pyautogui) (0.0.9)\n",
      "Requirement already satisfied: pymsgbox in c:\\users\\yj\\anaconda3\\lib\\site-packages (from pyautogui) (1.0.9)\n",
      "Requirement already satisfied: mouseinfo in c:\\users\\yj\\anaconda3\\lib\\site-packages (from pyautogui) (0.1.3)\n",
      "Requirement already satisfied: PyTweening>=1.0.1 in c:\\users\\yj\\anaconda3\\lib\\site-packages (from pyautogui) (1.0.4)\n",
      "Requirement already satisfied: pyscreeze>=0.1.21 in c:\\users\\yj\\anaconda3\\lib\\site-packages (from pyautogui) (0.1.28)\n",
      "Requirement already satisfied: pyrect in c:\\users\\yj\\anaconda3\\lib\\site-packages (from pygetwindow>=0.0.5->pyautogui) (0.2.0)\n",
      "Requirement already satisfied: pyperclip in c:\\users\\yj\\anaconda3\\lib\\site-packages (from mouseinfo->pyautogui) (1.8.2)\n"
     ]
    }
   ],
   "source": [
    "# pyautogui 모듈 설치\n",
    "!pip install pyautogui"
   ]
  },
  {
   "cell_type": "code",
   "execution_count": 24,
   "id": "97434493",
   "metadata": {
    "scrolled": false
   },
   "outputs": [
    {
     "name": "stdout",
     "output_type": "stream",
     "text": [
      "삼성전자, 세계 최초 4K 240㎐ 게이밍 모니터 ‘네오 G8’ 출시 => https://biz.chosun.com/it-science/ict/2022/06/27/FIG42AG6VNARNDUMIFK6NVNQDA/?utm_source=naver&utm_medium=original&utm_campaign=biz\n",
      "삼성전자, 커브드 게이밍 모니터 '오디세이 네오 G8' 출시 => http://www.newsis.com/view/?id=NISX20220627_0001920962&cID=13001&pID=13000\n",
      "삼성 'KOFR 액티브ETF' 순자산 1조원…\"올해 亞상장 ETF 유일\" => http://www.edaily.co.kr/news/newspath.asp?newsid=01626886632365984\n",
      "삼성물산 '래미안' 국가고객만족도 아파트 부문 25년 연속 1위 => https://www.news1.kr/articles/?4723795\n",
      "삼성문화재단, 미술관에도 ESG 경영 본격 추진 => http://news.heraldcorp.com/view.php?ud=20220627000059\n",
      "앞서가는 삼성 => https://www.yna.co.kr/view/PYH20220626078200063?input=1196m\n",
      "전략회의 마친 삼성전자 DX 부문, 통합 시너지 방안 결과물 내놨다 => http://www.inews24.com/view/1494139\n",
      "다시 6만전자?…삼성그룹주 펀드 수익률은 => http://www.newsis.com/view/?id=NISX20220624_0001919709&cID=15001&pID=15000\n",
      "\"내가 알던 삼성·교보 설계사, 사기꾼\"… 금감원, '업무정지' 철퇴 => http://moneys.mt.co.kr/news/mwView.php?no=2022062709282877745\n",
      "삼성 날고 다른 재벌 ‘경제력 집중’ 커졌는데…윤 정부 정책은 ‘친재벌’ => https://www.hani.co.kr/arti/economy/marketing/1048550.html\n",
      "------------------------------- 1 page -------------------------------\n",
      "삼성전자, 세계 최초 4K 240㎐ 게이밍 모니터 ‘네오 G8’ 출시 => https://biz.chosun.com/it-science/ict/2022/06/27/FIG42AG6VNARNDUMIFK6NVNQDA/?utm_source=naver&utm_medium=original&utm_campaign=biz\n",
      "삼성전자, 커브드 게이밍 모니터 '오디세이 네오 G8' 출시 => http://www.newsis.com/view/?id=NISX20220627_0001920962&cID=13001&pID=13000\n",
      "삼성 'KOFR 액티브ETF' 순자산 1조원…\"올해 亞상장 ETF 유일\" => http://www.edaily.co.kr/news/newspath.asp?newsid=01626886632365984\n",
      "삼성물산 '래미안' 국가고객만족도 아파트 부문 25년 연속 1위 => https://www.news1.kr/articles/?4723795\n",
      "삼성문화재단, 미술관에도 ESG 경영 본격 추진 => http://news.heraldcorp.com/view.php?ud=20220627000059\n",
      "앞서가는 삼성 => https://www.yna.co.kr/view/PYH20220626078200063?input=1196m\n",
      "전략회의 마친 삼성전자 DX 부문, 통합 시너지 방안 결과물 내놨다 => http://www.inews24.com/view/1494139\n",
      "다시 6만전자?…삼성그룹주 펀드 수익률은 => http://www.newsis.com/view/?id=NISX20220624_0001919709&cID=15001&pID=15000\n",
      "\"내가 알던 삼성·교보 설계사, 사기꾼\"… 금감원, '업무정지' 철퇴 => http://moneys.mt.co.kr/news/mwView.php?no=2022062709282877745\n",
      "삼성 날고 다른 재벌 ‘경제력 집중’ 커졌는데…윤 정부 정책은 ‘친재벌’ => https://www.hani.co.kr/arti/economy/marketing/1048550.html\n",
      "------------------------------- 2 page -------------------------------\n",
      "삼성전자, 세계 최초 4K 240㎐ 게이밍 모니터 ‘네오 G8’ 출시 => https://biz.chosun.com/it-science/ict/2022/06/27/FIG42AG6VNARNDUMIFK6NVNQDA/?utm_source=naver&utm_medium=original&utm_campaign=biz\n",
      "삼성전자, 커브드 게이밍 모니터 '오디세이 네오 G8' 출시 => http://www.newsis.com/view/?id=NISX20220627_0001920962&cID=13001&pID=13000\n",
      "삼성 'KOFR 액티브ETF' 순자산 1조원…\"올해 亞상장 ETF 유일\" => http://www.edaily.co.kr/news/newspath.asp?newsid=01626886632365984\n",
      "삼성물산 '래미안' 국가고객만족도 아파트 부문 25년 연속 1위 => https://www.news1.kr/articles/?4723795\n",
      "삼성문화재단, 미술관에도 ESG 경영 본격 추진 => http://news.heraldcorp.com/view.php?ud=20220627000059\n",
      "앞서가는 삼성 => https://www.yna.co.kr/view/PYH20220626078200063?input=1196m\n",
      "전략회의 마친 삼성전자 DX 부문, 통합 시너지 방안 결과물 내놨다 => http://www.inews24.com/view/1494139\n",
      "다시 6만전자?…삼성그룹주 펀드 수익률은 => http://www.newsis.com/view/?id=NISX20220624_0001919709&cID=15001&pID=15000\n",
      "\"내가 알던 삼성·교보 설계사, 사기꾼\"… 금감원, '업무정지' 철퇴 => http://moneys.mt.co.kr/news/mwView.php?no=2022062709282877745\n",
      "삼성 날고 다른 재벌 ‘경제력 집중’ 커졌는데…윤 정부 정책은 ‘친재벌’ => https://www.hani.co.kr/arti/economy/marketing/1048550.html\n",
      "------------------------------- 3 page -------------------------------\n"
     ]
    }
   ],
   "source": [
    "import requests\n",
    "from bs4 import BeautifulSoup\n",
    "import pyautogui as pya\n",
    "\n",
    "pageNum = 1\n",
    "\n",
    "# 파이썬 기본 내장 함수 input으로 사용자로부터 검색어를 입력받음\n",
    "# pyautogui 팝업창을 띄워 데이터를 입력받음\n",
    "keyword = pyautogui.prompt(\"검색어를 입력하세요.\")\n",
    "lastPage = int(pya.prompt(\"마지막 페이지 번호를 입력하세요.\"))\n",
    "\n",
    "for i in range(1, lastPage*10, 10) :\n",
    "    # 특정 주소 naver 서버에 대화를 시도\n",
    "    # fstring f\"문자열[변수명]\"\n",
    "    response = requests.get(f\"https://search.naver.com/search.naver?where=news&sm=tab_jum&query=\"+keyword+\"&start=[i]\")\n",
    "\n",
    "    # naver 에서 HTML 가져옴\n",
    "    html = response.text\n",
    "\n",
    "    # html.parser(html 번역기로 해석)\n",
    "    soup = BeautifulSoup(html, 'html.parser')\n",
    "\n",
    "    # select 부분\n",
    "    title = soup.select(\"div.news_wrap.api_ani_send > div > a\")\n",
    "    \n",
    "    # for문 반복 출력 부분\n",
    "    for title_one in title :\n",
    "        print(title_one.text, \"=>\", title_one.attrs['href'])\n",
    "        \n",
    "    print(\"-------------------------------\", pageNum, \"page -------------------------------\")\n",
    "    pageNum += 1"
   ]
  }
 ],
 "metadata": {
  "jupytext": {
   "formats": "ipynb,auto:light"
  },
  "kernelspec": {
   "display_name": "Python 3 (ipykernel)",
   "language": "python",
   "name": "python3"
  },
  "language_info": {
   "codemirror_mode": {
    "name": "ipython",
    "version": 3
   },
   "file_extension": ".py",
   "mimetype": "text/x-python",
   "name": "python",
   "nbconvert_exporter": "python",
   "pygments_lexer": "ipython3",
   "version": "3.9.12"
  }
 },
 "nbformat": 4,
 "nbformat_minor": 5
}
