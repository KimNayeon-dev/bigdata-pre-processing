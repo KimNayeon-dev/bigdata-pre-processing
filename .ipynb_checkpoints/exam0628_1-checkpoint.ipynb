{
 "cells": [
  {
   "cell_type": "markdown",
   "id": "e1430c3b",
   "metadata": {},
   "source": [
    "## 멕시코풍 프랜차이즈 Chipotle의 주문 데이터 분석하기\n",
    "---\n",
    "### <Step1. 탐색> : 데이터의 기초 정보 살펴보기\n",
    "> - Chipotle 데이터셋의 기본 정보\n",
    "> - Chipotle 데이터셋의 행과 열, 데이터\n",
    "> - Chipotle 데이터셋의 수치적 특징 파악"
   ]
  },
  {
   "cell_type": "code",
   "execution_count": 1,
   "id": "7910d65c",
   "metadata": {},
   "outputs": [],
   "source": [
    "import pandas as pd"
   ]
  },
  {
   "cell_type": "code",
   "execution_count": 2,
   "id": "a40209d2",
   "metadata": {},
   "outputs": [],
   "source": [
    "# 데이터를 불러온 뒤, 불러온 데이터 구성 정보를 출력하는 코드\n",
    "# read_csv 함수로 데이터를 Dataframe 형태로\n",
    "# csv(comma separated value)는 쉼표 기준,\n",
    "# tsv(tab separated value)는 tab 기준으로 항목을 구분하여 저장한 데이터\n",
    "file_path = '../data/chipotle.tsv'\n",
    "chipo = pd.read_csv(file_path, sep='\\t')"
   ]
  },
  {
   "cell_type": "code",
   "execution_count": 3,
   "id": "17895cf9",
   "metadata": {},
   "outputs": [
    {
     "name": "stdout",
     "output_type": "stream",
     "text": [
      "(4622, 5)\n"
     ]
    }
   ],
   "source": [
    "# 데이터 프레임의 행과 열의 정보 출력 / print()는 생략 가능\n",
    "print(chipo.shape)"
   ]
  },
  {
   "cell_type": "code",
   "execution_count": 4,
   "id": "098d8343",
   "metadata": {},
   "outputs": [
    {
     "name": "stdout",
     "output_type": "stream",
     "text": [
      "<class 'pandas.core.frame.DataFrame'>\n",
      "RangeIndex: 4622 entries, 0 to 4621\n",
      "Data columns (total 5 columns):\n",
      " #   Column              Non-Null Count  Dtype \n",
      "---  ------              --------------  ----- \n",
      " 0   order_id            4622 non-null   int64 \n",
      " 1   quantity            4622 non-null   int64 \n",
      " 2   item_name           4622 non-null   object\n",
      " 3   choice_description  3376 non-null   object\n",
      " 4   item_price          4622 non-null   object\n",
      "dtypes: int64(2), object(3)\n",
      "memory usage: 180.7+ KB\n"
     ]
    }
   ],
   "source": [
    "chipo.info()"
   ]
  },
  {
   "cell_type": "code",
   "execution_count": 5,
   "id": "2ba11dde",
   "metadata": {
    "scrolled": false
   },
   "outputs": [
    {
     "data": {
      "text/html": [
       "<div>\n",
       "<style scoped>\n",
       "    .dataframe tbody tr th:only-of-type {\n",
       "        vertical-align: middle;\n",
       "    }\n",
       "\n",
       "    .dataframe tbody tr th {\n",
       "        vertical-align: top;\n",
       "    }\n",
       "\n",
       "    .dataframe thead th {\n",
       "        text-align: right;\n",
       "    }\n",
       "</style>\n",
       "<table border=\"1\" class=\"dataframe\">\n",
       "  <thead>\n",
       "    <tr style=\"text-align: right;\">\n",
       "      <th></th>\n",
       "      <th>order_id</th>\n",
       "      <th>quantity</th>\n",
       "      <th>item_name</th>\n",
       "      <th>choice_description</th>\n",
       "      <th>item_price</th>\n",
       "    </tr>\n",
       "  </thead>\n",
       "  <tbody>\n",
       "    <tr>\n",
       "      <th>0</th>\n",
       "      <td>1</td>\n",
       "      <td>1</td>\n",
       "      <td>Chips and Fresh Tomato Salsa</td>\n",
       "      <td>NaN</td>\n",
       "      <td>$2.39</td>\n",
       "    </tr>\n",
       "    <tr>\n",
       "      <th>1</th>\n",
       "      <td>1</td>\n",
       "      <td>1</td>\n",
       "      <td>Izze</td>\n",
       "      <td>[Clementine]</td>\n",
       "      <td>$3.39</td>\n",
       "    </tr>\n",
       "    <tr>\n",
       "      <th>2</th>\n",
       "      <td>1</td>\n",
       "      <td>1</td>\n",
       "      <td>Nantucket Nectar</td>\n",
       "      <td>[Apple]</td>\n",
       "      <td>$3.39</td>\n",
       "    </tr>\n",
       "    <tr>\n",
       "      <th>3</th>\n",
       "      <td>1</td>\n",
       "      <td>1</td>\n",
       "      <td>Chips and Tomatillo-Green Chili Salsa</td>\n",
       "      <td>NaN</td>\n",
       "      <td>$2.39</td>\n",
       "    </tr>\n",
       "    <tr>\n",
       "      <th>4</th>\n",
       "      <td>2</td>\n",
       "      <td>2</td>\n",
       "      <td>Chicken Bowl</td>\n",
       "      <td>[Tomatillo-Red Chili Salsa (Hot), [Black Beans...</td>\n",
       "      <td>$16.98</td>\n",
       "    </tr>\n",
       "    <tr>\n",
       "      <th>5</th>\n",
       "      <td>3</td>\n",
       "      <td>1</td>\n",
       "      <td>Chicken Bowl</td>\n",
       "      <td>[Fresh Tomato Salsa (Mild), [Rice, Cheese, Sou...</td>\n",
       "      <td>$10.98</td>\n",
       "    </tr>\n",
       "    <tr>\n",
       "      <th>6</th>\n",
       "      <td>3</td>\n",
       "      <td>1</td>\n",
       "      <td>Side of Chips</td>\n",
       "      <td>NaN</td>\n",
       "      <td>$1.69</td>\n",
       "    </tr>\n",
       "    <tr>\n",
       "      <th>7</th>\n",
       "      <td>4</td>\n",
       "      <td>1</td>\n",
       "      <td>Steak Burrito</td>\n",
       "      <td>[Tomatillo Red Chili Salsa, [Fajita Vegetables...</td>\n",
       "      <td>$11.75</td>\n",
       "    </tr>\n",
       "    <tr>\n",
       "      <th>8</th>\n",
       "      <td>4</td>\n",
       "      <td>1</td>\n",
       "      <td>Steak Soft Tacos</td>\n",
       "      <td>[Tomatillo Green Chili Salsa, [Pinto Beans, Ch...</td>\n",
       "      <td>$9.25</td>\n",
       "    </tr>\n",
       "    <tr>\n",
       "      <th>9</th>\n",
       "      <td>5</td>\n",
       "      <td>1</td>\n",
       "      <td>Steak Burrito</td>\n",
       "      <td>[Fresh Tomato Salsa, [Rice, Black Beans, Pinto...</td>\n",
       "      <td>$9.25</td>\n",
       "    </tr>\n",
       "  </tbody>\n",
       "</table>\n",
       "</div>"
      ],
      "text/plain": [
       "   order_id  quantity                              item_name  \\\n",
       "0         1         1           Chips and Fresh Tomato Salsa   \n",
       "1         1         1                                   Izze   \n",
       "2         1         1                       Nantucket Nectar   \n",
       "3         1         1  Chips and Tomatillo-Green Chili Salsa   \n",
       "4         2         2                           Chicken Bowl   \n",
       "5         3         1                           Chicken Bowl   \n",
       "6         3         1                          Side of Chips   \n",
       "7         4         1                          Steak Burrito   \n",
       "8         4         1                       Steak Soft Tacos   \n",
       "9         5         1                          Steak Burrito   \n",
       "\n",
       "                                  choice_description item_price  \n",
       "0                                                NaN     $2.39   \n",
       "1                                       [Clementine]     $3.39   \n",
       "2                                            [Apple]     $3.39   \n",
       "3                                                NaN     $2.39   \n",
       "4  [Tomatillo-Red Chili Salsa (Hot), [Black Beans...    $16.98   \n",
       "5  [Fresh Tomato Salsa (Mild), [Rice, Cheese, Sou...    $10.98   \n",
       "6                                                NaN     $1.69   \n",
       "7  [Tomatillo Red Chili Salsa, [Fajita Vegetables...    $11.75   \n",
       "8  [Tomatillo Green Chili Salsa, [Pinto Beans, Ch...     $9.25   \n",
       "9  [Fresh Tomato Salsa, [Rice, Black Beans, Pinto...     $9.25   "
      ]
     },
     "execution_count": 5,
     "metadata": {},
     "output_type": "execute_result"
    }
   ],
   "source": [
    "# chipo라는 Dataframe에서 순서대로 10개의 row 데이터를 출력\n",
    "chipo.head(10)"
   ]
  },
  {
   "cell_type": "code",
   "execution_count": 6,
   "id": "df9b5fd2",
   "metadata": {},
   "outputs": [
    {
     "data": {
      "text/plain": [
       "Index(['order_id', 'quantity', 'item_name', 'choice_description',\n",
       "       'item_price'],\n",
       "      dtype='object')"
      ]
     },
     "execution_count": 6,
     "metadata": {},
     "output_type": "execute_result"
    }
   ],
   "source": [
    "# columns() 함수로 컬럼의 정보를 보여줌\n",
    "# order_id : 주문 번호\n",
    "# quantity : 주문 수량\n",
    "# item_name : 주문한 상품명\n",
    "# choice _description : 주문 아이템의 상세 선택 옵션\n",
    "#item_price : 주문한 상품가격\n",
    "chipo.columns"
   ]
  },
  {
   "cell_type": "code",
   "execution_count": 7,
   "id": "8b98b7ee",
   "metadata": {},
   "outputs": [
    {
     "data": {
      "text/plain": [
       "RangeIndex(start=0, stop=4622, step=1)"
      ]
     },
     "execution_count": 7,
     "metadata": {},
     "output_type": "execute_result"
    }
   ],
   "source": [
    "# index는 인덱스 정보\n",
    "chipo.index"
   ]
  },
  {
   "cell_type": "markdown",
   "id": "ec6474d6",
   "metadata": {},
   "source": [
    "---\n",
    "### <Step2. 인사이트의 발견> : 탐색과 시각화\n",
    "> - 가장 많이 주문한 item\n",
    "> - item당 주문 개수와 총량 구하기\n",
    "> - 시각화로 분석 결과 살펴보기"
   ]
  },
  {
   "cell_type": "code",
   "execution_count": 8,
   "id": "a3edcb7d",
   "metadata": {},
   "outputs": [
    {
     "data": {
      "text/html": [
       "<div>\n",
       "<style scoped>\n",
       "    .dataframe tbody tr th:only-of-type {\n",
       "        vertical-align: middle;\n",
       "    }\n",
       "\n",
       "    .dataframe tbody tr th {\n",
       "        vertical-align: top;\n",
       "    }\n",
       "\n",
       "    .dataframe thead th {\n",
       "        text-align: right;\n",
       "    }\n",
       "</style>\n",
       "<table border=\"1\" class=\"dataframe\">\n",
       "  <thead>\n",
       "    <tr style=\"text-align: right;\">\n",
       "      <th></th>\n",
       "      <th>order_id</th>\n",
       "      <th>quantity</th>\n",
       "    </tr>\n",
       "  </thead>\n",
       "  <tbody>\n",
       "    <tr>\n",
       "      <th>count</th>\n",
       "      <td>4622.000000</td>\n",
       "      <td>4622.000000</td>\n",
       "    </tr>\n",
       "    <tr>\n",
       "      <th>mean</th>\n",
       "      <td>927.254868</td>\n",
       "      <td>1.075725</td>\n",
       "    </tr>\n",
       "    <tr>\n",
       "      <th>std</th>\n",
       "      <td>528.890796</td>\n",
       "      <td>0.410186</td>\n",
       "    </tr>\n",
       "    <tr>\n",
       "      <th>min</th>\n",
       "      <td>1.000000</td>\n",
       "      <td>1.000000</td>\n",
       "    </tr>\n",
       "    <tr>\n",
       "      <th>25%</th>\n",
       "      <td>477.250000</td>\n",
       "      <td>1.000000</td>\n",
       "    </tr>\n",
       "    <tr>\n",
       "      <th>50%</th>\n",
       "      <td>926.000000</td>\n",
       "      <td>1.000000</td>\n",
       "    </tr>\n",
       "    <tr>\n",
       "      <th>75%</th>\n",
       "      <td>1393.000000</td>\n",
       "      <td>1.000000</td>\n",
       "    </tr>\n",
       "    <tr>\n",
       "      <th>max</th>\n",
       "      <td>1834.000000</td>\n",
       "      <td>15.000000</td>\n",
       "    </tr>\n",
       "  </tbody>\n",
       "</table>\n",
       "</div>"
      ],
      "text/plain": [
       "          order_id     quantity\n",
       "count  4622.000000  4622.000000\n",
       "mean    927.254868     1.075725\n",
       "std     528.890796     0.410186\n",
       "min       1.000000     1.000000\n",
       "25%     477.250000     1.000000\n",
       "50%     926.000000     1.000000\n",
       "75%    1393.000000     1.000000\n",
       "max    1834.000000    15.000000"
      ]
     },
     "execution_count": 8,
     "metadata": {},
     "output_type": "execute_result"
    }
   ],
   "source": [
    "# Chipotle 데이터셋의 수치적 특징 파악\n",
    "# describe() 함수로 요약 통계량 출력하기(수치적 계산이 가능한 피처만 출력)\n",
    "# chipo dataframe에서 수치형 피처들의 요약 통계량을 확인\n",
    "# 데이터의 count(수), mean(평균), std(표준편차), min(최소값),\n",
    "# 25%(1사분위수), 50%(2사분위수), 75%(3사분위수), max(최대값)\n",
    "chipo.describe()"
   ]
  },
  {
   "cell_type": "code",
   "execution_count": 9,
   "id": "dfcb54fe",
   "metadata": {},
   "outputs": [
    {
     "name": "stderr",
     "output_type": "stream",
     "text": [
      "C:\\Users\\YJ\\AppData\\Local\\Temp\\ipykernel_11320\\3264524649.py:1: FutureWarning: Dropping of nuisance columns in DataFrame reductions (with 'numeric_only=None') is deprecated; in a future version this will raise TypeError.  Select only valid columns before calling the reduction.\n",
      "  chipo.mean()\n"
     ]
    },
    {
     "data": {
      "text/plain": [
       "order_id    927.254868\n",
       "quantity      1.075725\n",
       "dtype: float64"
      ]
     },
     "execution_count": 9,
     "metadata": {},
     "output_type": "execute_result"
    }
   ],
   "source": [
    "chipo.mean()"
   ]
  },
  {
   "cell_type": "code",
   "execution_count": 10,
   "id": "fd95acd9",
   "metadata": {},
   "outputs": [
    {
     "data": {
      "text/html": [
       "<div>\n",
       "<style scoped>\n",
       "    .dataframe tbody tr th:only-of-type {\n",
       "        vertical-align: middle;\n",
       "    }\n",
       "\n",
       "    .dataframe tbody tr th {\n",
       "        vertical-align: top;\n",
       "    }\n",
       "\n",
       "    .dataframe thead th {\n",
       "        text-align: right;\n",
       "    }\n",
       "</style>\n",
       "<table border=\"1\" class=\"dataframe\">\n",
       "  <thead>\n",
       "    <tr style=\"text-align: right;\">\n",
       "      <th></th>\n",
       "      <th>quantity</th>\n",
       "    </tr>\n",
       "  </thead>\n",
       "  <tbody>\n",
       "    <tr>\n",
       "      <th>count</th>\n",
       "      <td>4622.000000</td>\n",
       "    </tr>\n",
       "    <tr>\n",
       "      <th>mean</th>\n",
       "      <td>1.075725</td>\n",
       "    </tr>\n",
       "    <tr>\n",
       "      <th>std</th>\n",
       "      <td>0.410186</td>\n",
       "    </tr>\n",
       "    <tr>\n",
       "      <th>min</th>\n",
       "      <td>1.000000</td>\n",
       "    </tr>\n",
       "    <tr>\n",
       "      <th>25%</th>\n",
       "      <td>1.000000</td>\n",
       "    </tr>\n",
       "    <tr>\n",
       "      <th>50%</th>\n",
       "      <td>1.000000</td>\n",
       "    </tr>\n",
       "    <tr>\n",
       "      <th>75%</th>\n",
       "      <td>1.000000</td>\n",
       "    </tr>\n",
       "    <tr>\n",
       "      <th>max</th>\n",
       "      <td>15.000000</td>\n",
       "    </tr>\n",
       "  </tbody>\n",
       "</table>\n",
       "</div>"
      ],
      "text/plain": [
       "          quantity\n",
       "count  4622.000000\n",
       "mean      1.075725\n",
       "std       0.410186\n",
       "min       1.000000\n",
       "25%       1.000000\n",
       "50%       1.000000\n",
       "75%       1.000000\n",
       "max      15.000000"
      ]
     },
     "execution_count": 10,
     "metadata": {},
     "output_type": "execute_result"
    }
   ],
   "source": [
    "# astype() 함수로 order_id의 데이터 타입을 String으로 변경\n",
    "# 수치형이 아니므로 숫자의 의미를 가지지 않아 결과에서 제외됨\n",
    "chipo['order_id'] = chipo['order_id'].astype(str)\n",
    "chipo.describe()"
   ]
  },
  {
   "cell_type": "markdown",
   "id": "34373584",
   "metadata": {},
   "source": [
    "---\n",
    "### unique() 함수로 범주형 피처의 개수 출력하기"
   ]
  },
  {
   "cell_type": "code",
   "execution_count": 11,
   "id": "22c676d2",
   "metadata": {},
   "outputs": [
    {
     "name": "stdout",
     "output_type": "stream",
     "text": [
      "['1' '2' '3' ... '1832' '1833' '1834']\n",
      "1834\n"
     ]
    }
   ],
   "source": [
    "# unique() 함수는 열(시리즈)의 중복값을 제거한 고유값만 출력\n",
    "# order_id와 item_name의 피처 형태 특징 - 범주형 피처\n",
    "# len(chipo['피처명'].unique())는 열(시리즈)의 고유값 수\n",
    "print(chipo['order_id'].unique())\n",
    "print(len(chipo['order_id'].unique()))"
   ]
  },
  {
   "cell_type": "code",
   "execution_count": 12,
   "id": "c6bedb44",
   "metadata": {},
   "outputs": [
    {
     "name": "stdout",
     "output_type": "stream",
     "text": [
      "['Chips and Fresh Tomato Salsa' 'Izze' 'Nantucket Nectar'\n",
      " 'Chips and Tomatillo-Green Chili Salsa' 'Chicken Bowl' 'Side of Chips'\n",
      " 'Steak Burrito' 'Steak Soft Tacos' 'Chips and Guacamole'\n",
      " 'Chicken Crispy Tacos' 'Chicken Soft Tacos' 'Chicken Burrito'\n",
      " 'Canned Soda' 'Barbacoa Burrito' 'Carnitas Burrito' 'Carnitas Bowl'\n",
      " 'Bottled Water' 'Chips and Tomatillo Green Chili Salsa' 'Barbacoa Bowl'\n",
      " 'Chips' 'Chicken Salad Bowl' 'Steak Bowl' 'Barbacoa Soft Tacos'\n",
      " 'Veggie Burrito' 'Veggie Bowl' 'Steak Crispy Tacos'\n",
      " 'Chips and Tomatillo Red Chili Salsa' 'Barbacoa Crispy Tacos'\n",
      " 'Veggie Salad Bowl' 'Chips and Roasted Chili-Corn Salsa'\n",
      " 'Chips and Roasted Chili Corn Salsa' 'Carnitas Soft Tacos'\n",
      " 'Chicken Salad' 'Canned Soft Drink' 'Steak Salad Bowl'\n",
      " '6 Pack Soft Drink' 'Chips and Tomatillo-Red Chili Salsa' 'Bowl'\n",
      " 'Burrito' 'Crispy Tacos' 'Carnitas Crispy Tacos' 'Steak Salad'\n",
      " 'Chips and Mild Fresh Tomato Salsa' 'Veggie Soft Tacos'\n",
      " 'Carnitas Salad Bowl' 'Barbacoa Salad Bowl' 'Salad' 'Veggie Crispy Tacos'\n",
      " 'Veggie Salad' 'Carnitas Salad']\n",
      "50\n"
     ]
    }
   ],
   "source": [
    "print(chipo['item_name'].unique())\n",
    "print(len(chipo['item_name'].unique())) # 길이"
   ]
  },
  {
   "cell_type": "markdown",
   "id": "304ed92a",
   "metadata": {},
   "source": [
    "---\n",
    "### [가장 많이 주문한 item]"
   ]
  },
  {
   "cell_type": "code",
   "execution_count": 13,
   "id": "1fae9845",
   "metadata": {
    "scrolled": true
   },
   "outputs": [
    {
     "data": {
      "text/plain": [
       "Steak Bowl                      211\n",
       "Chips                           211\n",
       "Bottled Water                   162\n",
       "Chicken Soft Tacos              115\n",
       "Chips and Fresh Tomato Salsa    110\n",
       "Name: item_name, dtype: int64"
      ]
     },
     "execution_count": 13,
     "metadata": {},
     "output_type": "execute_result"
    }
   ],
   "source": [
    "# Dataframe['column'] 형태에 value_counts() 함수 적용\n",
    "\n",
    "# 가장 많이 주문한 item:top10을 출력\n",
    "# value_counts() 각 원소의 빈도수 출력, 시리즈 객체에만 적용\n",
    "# Series(시리즈)는 복수의 행(row)으로 이루어진 하나의 열(column) 구조\n",
    "chipo['item_name'].value_counts()[5:10] # 상위 5위에서 10위까지"
   ]
  },
  {
   "cell_type": "code",
   "execution_count": 14,
   "id": "e129b8b9",
   "metadata": {},
   "outputs": [
    {
     "data": {
      "text/plain": [
       "Chicken Bowl                    726\n",
       "Chicken Burrito                 553\n",
       "Chips and Guacamole             479\n",
       "Steak Burrito                   368\n",
       "Canned Soft Drink               301\n",
       "Steak Bowl                      211\n",
       "Chips                           211\n",
       "Bottled Water                   162\n",
       "Chicken Soft Tacos              115\n",
       "Chips and Fresh Tomato Salsa    110\n",
       "Name: item_name, dtype: int64"
      ]
     },
     "execution_count": 14,
     "metadata": {},
     "output_type": "execute_result"
    }
   ],
   "source": [
    "chipo['item_name'].value_counts()[:10] # 상위 10개"
   ]
  },
  {
   "cell_type": "markdown",
   "id": "10f4b391",
   "metadata": {},
   "source": [
    "---\n",
    "### [item당 주문 개수]"
   ]
  },
  {
   "cell_type": "code",
   "execution_count": 15,
   "id": "e374eb36",
   "metadata": {},
   "outputs": [
    {
     "name": "stdout",
     "output_type": "stream",
     "text": [
      "[COUNT]\n",
      "item_name\n",
      "6 Pack Soft Drink         54\n",
      "Barbacoa Bowl             66\n",
      "Barbacoa Burrito          91\n",
      "Barbacoa Crispy Tacos     11\n",
      "Barbacoa Salad Bowl       10\n",
      "Barbacoa Soft Tacos       25\n",
      "Bottled Water            162\n",
      "Bowl                       2\n",
      "Burrito                    6\n",
      "Canned Soda              104\n",
      "Name: quantity, dtype: int64\n",
      "\n",
      "[SUM]\n",
      "item_name\n",
      "6 Pack Soft Drink         55\n",
      "Barbacoa Bowl             66\n",
      "Barbacoa Burrito          91\n",
      "Barbacoa Crispy Tacos     12\n",
      "Barbacoa Salad Bowl       10\n",
      "Barbacoa Soft Tacos       25\n",
      "Bottled Water            211\n",
      "Bowl                       4\n",
      "Burrito                    6\n",
      "Canned Soda              126\n",
      "Name: quantity, dtype: int64\n"
     ]
    }
   ],
   "source": [
    "# groupby() 함수는 데이터 프레임에서 특정 피처를 기준으로\n",
    "# 그룹을 생성하여, 이를 통해 그룹별 연산을 적용\n",
    "\n",
    "print(\"[COUNT]\")\n",
    "print(chipo.groupby('item_name')['quantity'].count()[:10])\n",
    "print()\n",
    "\n",
    "print(\"[SUM]\")\n",
    "# item_name으로 그룹 지어진 피처의 quantity의 합(sum)을 구함\n",
    "print(chipo.groupby('item_name')['quantity'].sum()[:10])"
   ]
  },
  {
   "cell_type": "code",
   "execution_count": 16,
   "id": "7c849601",
   "metadata": {},
   "outputs": [
    {
     "data": {
      "text/plain": [
       "item_name\n",
       "6 Pack Soft Drink        $6.49 $6.49 $6.49 $6.49 $6.49 $6.49 $6.49 $6.4...\n",
       "Barbacoa Bowl            $11.75 $11.75 $9.25 $8.99 $9.25 $11.75 $9.25 $...\n",
       "Barbacoa Burrito         $8.99 $9.25 $9.25 $11.75 $11.75 $9.25 $8.99 $1...\n",
       "Barbacoa Crispy Tacos    $11.75 $9.25 $11.48 $11.75 $9.25 $9.25 $8.99 $...\n",
       "Barbacoa Salad Bowl      $11.89 $11.89 $9.39 $9.39 $9.39 $11.89 $11.89 ...\n",
       "Barbacoa Soft Tacos      $9.25 $9.25 $8.99 $9.25 $9.25 $11.75 $11.75 $9...\n",
       "Bottled Water            $1.09 $1.09 $1.09 $1.50 $1.50 $1.50 $3.00 $1.5...\n",
       "Bowl                                                         $22.20 $7.40 \n",
       "Burrito                               $7.40 $7.40 $7.40 $7.40 $7.40 $7.40 \n",
       "Canned Soda              $2.18 $1.09 $2.18 $1.09 $1.09 $1.09 $1.09 $2.1...\n",
       "Name: item_price, dtype: object"
      ]
     },
     "execution_count": 16,
     "metadata": {},
     "output_type": "execute_result"
    }
   ],
   "source": [
    "chipo.groupby('item_name')['item_price'].sum()[:10]"
   ]
  },
  {
   "cell_type": "markdown",
   "id": "dafa839e",
   "metadata": {},
   "source": [
    "---\n",
    "### <Step3. 데이터 전처리> : 전처리 함수 사용하기\n",
    "> - apply()와 lambda를 이용해 데이터 전처리하기"
   ]
  },
  {
   "cell_type": "code",
   "execution_count": 17,
   "id": "7df1d0c3",
   "metadata": {
    "scrolled": false
   },
   "outputs": [
    {
     "name": "stdout",
     "output_type": "stream",
     "text": [
      "[ITEM_PRICE]\n",
      "0        $2.39 \n",
      "1        $3.39 \n",
      "2        $3.39 \n",
      "3        $2.39 \n",
      "4       $16.98 \n",
      "         ...   \n",
      "4617    $11.75 \n",
      "4618    $11.75 \n",
      "4619    $11.25 \n",
      "4620     $8.75 \n",
      "4621     $8.75 \n",
      "Name: item_price, Length: 4622, dtype: object\n",
      "\n",
      "[ITEM_PRICE_LAMBDA]\n"
     ]
    },
    {
     "data": {
      "text/plain": [
       "item_name\n",
       "6 Pack Soft Drink        356.95\n",
       "Barbacoa Bowl            672.36\n",
       "Barbacoa Burrito         894.75\n",
       "Barbacoa Crispy Tacos    120.21\n",
       "Barbacoa Salad Bowl      106.40\n",
       "Barbacoa Soft Tacos      250.46\n",
       "Bottled Water            302.56\n",
       "Bowl                      29.60\n",
       "Burrito                   44.40\n",
       "Canned Soda              137.34\n",
       "Name: item_price, dtype: float64"
      ]
     },
     "execution_count": 17,
     "metadata": {},
     "output_type": "execute_result"
    }
   ],
   "source": [
    "print(\"[ITEM_PRICE]\")\n",
    "print(chipo['item_price'])\n",
    "print()\n",
    "\n",
    "print(\"[ITEM_PRICE_LAMBDA]\")\n",
    "# column 단위 데이터에 apply 함수로 전처리를 적용\n",
    "\n",
    "# apply() 함수는 시리즈 단위의 연산을 처리하는 기능을 수행하여\n",
    "# sum()이나 mean()과 같이 연산이 정의된 함수를 파라미터로 받음\n",
    "\n",
    "# lambda 뒤에 나오는 인수는 함수에서 사용될 변수 x를 정의하며,\n",
    "# 변수를 실수형으로 변환하는 float 함수에 적용시킨 결과를 x에 다시 대입\n",
    "\n",
    "# lambda 함수는 문자열 데이터에서 첫번째 문자열을 제거한 뒤\n",
    "# 1번째부터 나머지 문자열(숫자)만을 수치형(float, 실수형)으로 바꿔주는 코드\n",
    "\n",
    "# => item_price 값을 배열 1번째부터 float 타입으로 출력\n",
    "\n",
    "chipo['item_price'] = chipo['item_price'].apply(lambda x: float(x[1:]))\n",
    "chipo.groupby('item_name')['item_price'].sum()[:10]"
   ]
  },
  {
   "cell_type": "markdown",
   "id": "5a37f0c1",
   "metadata": {},
   "source": [
    "---\n",
    "### [시각화로 분석 결과 살펴보기]\n",
    "> - 지금까지의 분석 결과를 간단한 시각화로 표현\n",
    "> - 아이템 별 주문의 총량을 막대 그래프로 시각화"
   ]
  },
  {
   "cell_type": "code",
   "execution_count": 18,
   "id": "a7b98eaa",
   "metadata": {},
   "outputs": [],
   "source": [
    "%matplotlib inline\n",
    "import matplotlib.pyplot as plt"
   ]
  },
  {
   "cell_type": "code",
   "execution_count": 19,
   "id": "1e301eaa",
   "metadata": {},
   "outputs": [
    {
     "name": "stdout",
     "output_type": "stream",
     "text": [
      "50\n",
      "50\n"
     ]
    }
   ],
   "source": [
    "# tolist() 함수는 시리즈를 리스트로 변환해줌\n",
    "item_quantity = chipo.groupby('item_name')['quantity'].sum() \n",
    "item_name_list = item_quantity.index.tolist() # 그래프의 x 좌표값\n",
    "order_cnt = item_quantity.values.tolist() # 그래프의 y 좌표값\n",
    "\n",
    "print(len(item_quantity))\n",
    "print(len(item_name_list))"
   ]
  },
  {
   "cell_type": "code",
   "execution_count": 20,
   "id": "e47724f1",
   "metadata": {
    "scrolled": true
   },
   "outputs": [
    {
     "data": {
      "text/plain": [
       "item_name\n",
       "6 Pack Soft Drink                         55\n",
       "Barbacoa Bowl                             66\n",
       "Barbacoa Burrito                          91\n",
       "Barbacoa Crispy Tacos                     12\n",
       "Barbacoa Salad Bowl                       10\n",
       "Barbacoa Soft Tacos                       25\n",
       "Bottled Water                            211\n",
       "Bowl                                       4\n",
       "Burrito                                    6\n",
       "Canned Soda                              126\n",
       "Canned Soft Drink                        351\n",
       "Carnitas Bowl                             71\n",
       "Carnitas Burrito                          60\n",
       "Carnitas Crispy Tacos                      8\n",
       "Carnitas Salad                             1\n",
       "Carnitas Salad Bowl                        6\n",
       "Carnitas Soft Tacos                       40\n",
       "Chicken Bowl                             761\n",
       "Chicken Burrito                          591\n",
       "Chicken Crispy Tacos                      50\n",
       "Chicken Salad                              9\n",
       "Chicken Salad Bowl                       123\n",
       "Chicken Soft Tacos                       120\n",
       "Chips                                    230\n",
       "Chips and Fresh Tomato Salsa             130\n",
       "Chips and Guacamole                      506\n",
       "Chips and Mild Fresh Tomato Salsa          1\n",
       "Chips and Roasted Chili Corn Salsa        23\n",
       "Chips and Roasted Chili-Corn Salsa        18\n",
       "Chips and Tomatillo Green Chili Salsa     45\n",
       "Chips and Tomatillo Red Chili Salsa       50\n",
       "Chips and Tomatillo-Green Chili Salsa     33\n",
       "Chips and Tomatillo-Red Chili Salsa       25\n",
       "Crispy Tacos                               2\n",
       "Izze                                      20\n",
       "Nantucket Nectar                          29\n",
       "Salad                                      2\n",
       "Side of Chips                            110\n",
       "Steak Bowl                               221\n",
       "Steak Burrito                            386\n",
       "Steak Crispy Tacos                        36\n",
       "Steak Salad                                4\n",
       "Steak Salad Bowl                          31\n",
       "Steak Soft Tacos                          56\n",
       "Veggie Bowl                               87\n",
       "Veggie Burrito                            97\n",
       "Veggie Crispy Tacos                        1\n",
       "Veggie Salad                               6\n",
       "Veggie Salad Bowl                         18\n",
       "Veggie Soft Tacos                          8\n",
       "Name: quantity, dtype: int64"
      ]
     },
     "execution_count": 20,
     "metadata": {},
     "output_type": "execute_result"
    }
   ],
   "source": [
    "item_quantity"
   ]
  },
  {
   "cell_type": "code",
   "execution_count": 21,
   "id": "ad07edf6",
   "metadata": {
    "scrolled": true
   },
   "outputs": [
    {
     "data": {
      "text/plain": [
       "['6 Pack Soft Drink',\n",
       " 'Barbacoa Bowl',\n",
       " 'Barbacoa Burrito',\n",
       " 'Barbacoa Crispy Tacos',\n",
       " 'Barbacoa Salad Bowl',\n",
       " 'Barbacoa Soft Tacos',\n",
       " 'Bottled Water',\n",
       " 'Bowl',\n",
       " 'Burrito',\n",
       " 'Canned Soda',\n",
       " 'Canned Soft Drink',\n",
       " 'Carnitas Bowl',\n",
       " 'Carnitas Burrito',\n",
       " 'Carnitas Crispy Tacos',\n",
       " 'Carnitas Salad',\n",
       " 'Carnitas Salad Bowl',\n",
       " 'Carnitas Soft Tacos',\n",
       " 'Chicken Bowl',\n",
       " 'Chicken Burrito',\n",
       " 'Chicken Crispy Tacos',\n",
       " 'Chicken Salad',\n",
       " 'Chicken Salad Bowl',\n",
       " 'Chicken Soft Tacos',\n",
       " 'Chips',\n",
       " 'Chips and Fresh Tomato Salsa',\n",
       " 'Chips and Guacamole',\n",
       " 'Chips and Mild Fresh Tomato Salsa',\n",
       " 'Chips and Roasted Chili Corn Salsa',\n",
       " 'Chips and Roasted Chili-Corn Salsa',\n",
       " 'Chips and Tomatillo Green Chili Salsa',\n",
       " 'Chips and Tomatillo Red Chili Salsa',\n",
       " 'Chips and Tomatillo-Green Chili Salsa',\n",
       " 'Chips and Tomatillo-Red Chili Salsa',\n",
       " 'Crispy Tacos',\n",
       " 'Izze',\n",
       " 'Nantucket Nectar',\n",
       " 'Salad',\n",
       " 'Side of Chips',\n",
       " 'Steak Bowl',\n",
       " 'Steak Burrito',\n",
       " 'Steak Crispy Tacos',\n",
       " 'Steak Salad',\n",
       " 'Steak Salad Bowl',\n",
       " 'Steak Soft Tacos',\n",
       " 'Veggie Bowl',\n",
       " 'Veggie Burrito',\n",
       " 'Veggie Crispy Tacos',\n",
       " 'Veggie Salad',\n",
       " 'Veggie Salad Bowl',\n",
       " 'Veggie Soft Tacos']"
      ]
     },
     "execution_count": 21,
     "metadata": {},
     "output_type": "execute_result"
    }
   ],
   "source": [
    "item_name_list"
   ]
  },
  {
   "cell_type": "code",
   "execution_count": 22,
   "id": "5f0d58b1",
   "metadata": {
    "scrolled": true
   },
   "outputs": [
    {
     "data": {
      "text/plain": [
       "[55,\n",
       " 66,\n",
       " 91,\n",
       " 12,\n",
       " 10,\n",
       " 25,\n",
       " 211,\n",
       " 4,\n",
       " 6,\n",
       " 126,\n",
       " 351,\n",
       " 71,\n",
       " 60,\n",
       " 8,\n",
       " 1,\n",
       " 6,\n",
       " 40,\n",
       " 761,\n",
       " 591,\n",
       " 50,\n",
       " 9,\n",
       " 123,\n",
       " 120,\n",
       " 230,\n",
       " 130,\n",
       " 506,\n",
       " 1,\n",
       " 23,\n",
       " 18,\n",
       " 45,\n",
       " 50,\n",
       " 33,\n",
       " 25,\n",
       " 2,\n",
       " 20,\n",
       " 29,\n",
       " 2,\n",
       " 110,\n",
       " 221,\n",
       " 386,\n",
       " 36,\n",
       " 4,\n",
       " 31,\n",
       " 56,\n",
       " 87,\n",
       " 97,\n",
       " 1,\n",
       " 6,\n",
       " 18,\n",
       " 8]"
      ]
     },
     "execution_count": 22,
     "metadata": {},
     "output_type": "execute_result"
    }
   ],
   "source": [
    "order_cnt"
   ]
  },
  {
   "cell_type": "code",
   "execution_count": 29,
   "id": "c2301b04",
   "metadata": {},
   "outputs": [
    {
     "data": {
      "image/png": "[encoded data removed]",
      "text/plain": [
       "<Figure size 720x432 with 1 Axes>"
      ]
     },
     "metadata": {
      "needs_background": "light"
     },
     "output_type": "display_data"
    }
   ],
   "source": [
    "plt.figure(figsize=(10, 6))\n",
    "plt.bar(item_name_list, order_cnt, align='center', color='red')\n",
    "plt.ylabel('Sum Of Ordered Item')\n",
    "plt.xlabel('Item Name')\n",
    "plt.xticks(rotation=90)\n",
    "plt.title('Distribution of Item Price')\n",
    "plt.show()"
   ]
  },
  {
   "cell_type": "markdown",
   "id": "71bb8970",
   "metadata": {},
   "source": [
    "---\n",
    "### 1. item당 주문 총량을 막대 그래프로 표현\n",
    "### 2. item당 주문 개수를 막대 그래프로 표현\n",
    "### 3. item당 주문 개수(상위 10개만)를 막대 그래프로 표현\n",
    "---"
   ]
  },
  {
   "cell_type": "code",
   "execution_count": 48,
   "id": "ef40240f",
   "metadata": {},
   "outputs": [
    {
     "name": "stdout",
     "output_type": "stream",
     "text": [
      "10\n",
      "item_name\n",
      "6 Pack Soft Drink         54\n",
      "Barbacoa Bowl             66\n",
      "Barbacoa Burrito          91\n",
      "Barbacoa Crispy Tacos     11\n",
      "Barbacoa Salad Bowl       10\n",
      "Barbacoa Soft Tacos       25\n",
      "Bottled Water            162\n",
      "Bowl                       2\n",
      "Burrito                    6\n",
      "Canned Soda              104\n",
      "Name: quantity, dtype: int64\n",
      "10\n",
      "item_name\n",
      "6 Pack Soft Drink         55\n",
      "Barbacoa Bowl             66\n",
      "Barbacoa Burrito          91\n",
      "Barbacoa Crispy Tacos     12\n",
      "Barbacoa Salad Bowl       10\n",
      "Barbacoa Soft Tacos       25\n",
      "Bottled Water            211\n",
      "Bowl                       4\n",
      "Burrito                    6\n",
      "Canned Soda              126\n",
      "Name: quantity, dtype: int64\n"
     ]
    }
   ],
   "source": [
    "plt.rc(\"font\", family=\"Malgun Gothic\", size=12) # 그래프에 한글 폰트 입력\n",
    "\n",
    "orderCount = chipo.groupby('item_name')['quantity'].count()[:10]\n",
    "orderSum = chipo.groupby('item_name')['quantity'].sum()[:10]\n",
    "\n",
    "item_name_list_10 = item_quantity.index.tolist()[:10]\n",
    "\n",
    "print(len(orderCount))\n",
    "print(orderCount)\n",
    "print(len(orderSum))\n",
    "print(orderSum)"
   ]
  },
  {
   "cell_type": "code",
   "execution_count": 49,
   "id": "b5470a00",
   "metadata": {},
   "outputs": [
    {
     "data": {
      "image/png": "[encoded data removed]",
      "text/plain": [
       "<Figure size 720x432 with 1 Axes>"
      ]
     },
     "metadata": {
      "needs_background": "light"
     },
     "output_type": "display_data"
    }
   ],
   "source": [
    "plt.figure(figsize=(10, 6))\n",
    "plt.bar(item_name_list_10, orderCount, align='center', color='orange')\n",
    "plt.xticks(rotation=90)\n",
    "plt.title('Item당 주문 총량')\n",
    "plt.show()"
   ]
  },
  {
   "cell_type": "code",
   "execution_count": 50,
   "id": "ed572eda",
   "metadata": {},
   "outputs": [
    {
     "data": {
      "image/png": "[encoded data removed]",
      "text/plain": [
       "<Figure size 720x432 with 1 Axes>"
      ]
     },
     "metadata": {
      "needs_background": "light"
     },
     "output_type": "display_data"
    }
   ],
   "source": [
    "plt.figure(figsize=(10, 6))\n",
    "plt.bar(item_name_list_10, orderSum, align='center', color='skyblue')\n",
    "plt.xticks(rotation=90)\n",
    "plt.title('Item당 주문 개수')\n",
    "plt.show()"
   ]
  },
  {
   "cell_type": "markdown",
   "id": "61d8b120",
   "metadata": {},
   "source": [
    "---\n",
    "### 4. 주문 당 계산 총액 그래프로 출력하기\n",
    "---"
   ]
  },
  {
   "cell_type": "code",
   "execution_count": 51,
   "id": "f7b8de13",
   "metadata": {},
   "outputs": [
    {
     "name": "stdout",
     "output_type": "stream",
     "text": [
      "10\n",
      "order_id\n",
      "1       11.56\n",
      "10      13.20\n",
      "100     10.08\n",
      "1000    20.50\n",
      "1001    10.08\n",
      "1002    10.68\n",
      "1003    13.00\n",
      "1004    21.96\n",
      "1005    12.15\n",
      "1006    71.40\n",
      "Name: item_price, dtype: float64\n",
      "['1' '2' '3' '4' '5' '6' '7' '8' '9' '10']\n"
     ]
    }
   ],
   "source": [
    "orderPrice = chipo.groupby('order_id')['item_price'].sum()[:10]\n",
    "orderId = chipo['order_id'].unique()[:10]\n",
    "\n",
    "\n",
    "print(len(orderPrice))\n",
    "print(orderPrice)\n",
    "print(orderId)"
   ]
  },
  {
   "cell_type": "code",
   "execution_count": 52,
   "id": "ab5630a0",
   "metadata": {},
   "outputs": [
    {
     "data": {
      "image/png": "[encoded data removed]",
      "text/plain": [
       "<Figure size 720x432 with 1 Axes>"
      ]
     },
     "metadata": {
      "needs_background": "light"
     },
     "output_type": "display_data"
    }
   ],
   "source": [
    "plt.figure(figsize=(10, 6))\n",
    "plt.bar(orderId, orderPrice, align='center', color='pink')\n",
    "plt.ylabel('Total Price')\n",
    "plt.xlabel('Order Id')\n",
    "plt.title('주문당 계산총액')\n",
    "plt.show()"
   ]
  }
 ],
 "metadata": {
  "jupytext": {
   "formats": "ipynb,auto:light"
  },
  "kernelspec": {
   "display_name": "Python 3 (ipykernel)",
   "language": "python",
   "name": "python3"
  },
  "language_info": {
   "codemirror_mode": {
    "name": "ipython",
    "version": 3
   },
   "file_extension": ".py",
   "mimetype": "text/x-python",
   "name": "python",
   "nbconvert_exporter": "python",
   "pygments_lexer": "ipython3",
   "version": "3.9.12"
  }
 },
 "nbformat": 4,
 "nbformat_minor": 5
}
